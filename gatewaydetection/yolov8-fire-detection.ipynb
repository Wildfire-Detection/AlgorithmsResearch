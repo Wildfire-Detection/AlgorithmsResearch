{
 "cells": [
  {
   "cell_type": "markdown",
   "metadata": {},
   "source": [
    "# Fire Detection System with YOLO\n",
    "\n",
    "In this fire detection system, it leverages a You Only Look Once (YOLO) deep learning model to identify the presence of fire in images. YOLO is a powerful object detection algorithm known for its speed and accuracy.\n",
    "\n",
    "Fire detection system can play a crucial role in ensuring public safety and minimizing property damage. Some potential applications of YOLO-based fire detection model might help real-time fire alarms in buildings, which can be integrated into surveillance systems to trigger alarms upon detecting fire in real-time. Additionally, deploying the model with cameras strategically placed in forests can enable early detection of wildfires."
   ]
  },
  {
   "cell_type": "code",
   "execution_count": 1,
   "metadata": {
    "execution": {
     "iopub.execute_input": "2024-05-09T19:36:56.951651Z",
     "iopub.status.busy": "2024-05-09T19:36:56.950742Z",
     "iopub.status.idle": "2024-05-09T19:36:56.964446Z",
     "shell.execute_reply": "2024-05-09T19:36:56.963401Z",
     "shell.execute_reply.started": "2024-05-09T19:36:56.951615Z"
    },
    "trusted": true
   },
   "outputs": [
    {
     "name": "stdout",
     "output_type": "stream",
     "text": [
      "/home/cacc/Repositories/WildfireDetectionResearch/gatewaydetection\n"
     ]
    }
   ],
   "source": [
    "import os\n",
    "HOME = os.getcwd()\n",
    "print(HOME)"
   ]
  },
  {
   "cell_type": "code",
   "execution_count": 1,
   "metadata": {
    "execution": {
     "iopub.execute_input": "2024-05-09T19:37:15.864888Z",
     "iopub.status.busy": "2024-05-09T19:37:15.863944Z",
     "iopub.status.idle": "2024-05-09T19:37:39.838922Z",
     "shell.execute_reply": "2024-05-09T19:37:39.837885Z",
     "shell.execute_reply.started": "2024-05-09T19:37:15.864853Z"
    },
    "id": "tdSMcABDNKW-",
    "outputId": "dbea2a9e-4563-45d7-fffa-1028e51096b2",
    "trusted": true
   },
   "outputs": [
    {
     "name": "stdout",
     "output_type": "stream",
     "text": [
      "Ultralytics 8.3.109 🚀 Python-3.10.16 torch-2.6.0+cu124 CUDA:0 (NVIDIA GeForce RTX 4060 Laptop GPU, 7933MiB)\n",
      "Setup complete ✅ (16 CPUs, 14.8 GB RAM, 259.0/467.9 GB disk)\n"
     ]
    }
   ],
   "source": [
    "%pip install ultralytics\n",
    "\n",
    "from IPython import display\n",
    "display.clear_output()\n",
    "\n",
    "import ultralytics\n",
    "ultralytics.checks()"
   ]
  },
  {
   "cell_type": "code",
   "execution_count": 2,
   "metadata": {
    "execution": {
     "iopub.execute_input": "2024-05-09T19:37:39.841007Z",
     "iopub.status.busy": "2024-05-09T19:37:39.840591Z",
     "iopub.status.idle": "2024-05-09T19:37:39.846005Z",
     "shell.execute_reply": "2024-05-09T19:37:39.84494Z",
     "shell.execute_reply.started": "2024-05-09T19:37:39.840975Z"
    },
    "id": "VOEYrlBoP9-E",
    "trusted": true
   },
   "outputs": [],
   "source": [
    "from ultralytics import YOLO\n",
    "\n",
    "from IPython.display import display, Image"
   ]
  },
  {
   "cell_type": "code",
   "execution_count": 10,
   "metadata": {},
   "outputs": [
    {
     "name": "stdout",
     "output_type": "stream",
     "text": [
      "Requirement already satisfied: roboflow in /home/cacc/anaconda3/envs/ml/lib/python3.10/site-packages (1.1.61)\n",
      "Requirement already satisfied: certifi in /home/cacc/anaconda3/envs/ml/lib/python3.10/site-packages (from roboflow) (2025.1.31)\n",
      "Requirement already satisfied: idna==3.7 in /home/cacc/anaconda3/envs/ml/lib/python3.10/site-packages (from roboflow) (3.7)\n",
      "Requirement already satisfied: cycler in /home/cacc/anaconda3/envs/ml/lib/python3.10/site-packages (from roboflow) (0.12.1)\n",
      "Requirement already satisfied: kiwisolver>=1.3.1 in /home/cacc/anaconda3/envs/ml/lib/python3.10/site-packages (from roboflow) (1.4.8)\n",
      "Requirement already satisfied: matplotlib in /home/cacc/anaconda3/envs/ml/lib/python3.10/site-packages (from roboflow) (3.10.1)\n",
      "Requirement already satisfied: numpy>=1.18.5 in /home/cacc/.local/lib/python3.10/site-packages (from roboflow) (1.26.4)\n",
      "Requirement already satisfied: opencv-python-headless==4.10.0.84 in /home/cacc/anaconda3/envs/ml/lib/python3.10/site-packages (from roboflow) (4.10.0.84)\n",
      "Requirement already satisfied: Pillow>=7.1.2 in /home/cacc/anaconda3/envs/ml/lib/python3.10/site-packages (from roboflow) (11.2.1)\n",
      "Requirement already satisfied: pillow-heif>=0.18.0 in /home/cacc/anaconda3/envs/ml/lib/python3.10/site-packages (from roboflow) (0.22.0)\n",
      "Requirement already satisfied: python-dateutil in /home/cacc/.local/lib/python3.10/site-packages (from roboflow) (2.9.0.post0)\n",
      "Requirement already satisfied: python-dotenv in /home/cacc/anaconda3/envs/ml/lib/python3.10/site-packages (from roboflow) (1.1.0)\n",
      "Requirement already satisfied: requests in /home/cacc/anaconda3/envs/ml/lib/python3.10/site-packages (from roboflow) (2.32.3)\n",
      "Requirement already satisfied: six in /home/cacc/anaconda3/envs/ml/lib/python3.10/site-packages (from roboflow) (1.17.0)\n",
      "Requirement already satisfied: urllib3>=1.26.6 in /home/cacc/anaconda3/envs/ml/lib/python3.10/site-packages (from roboflow) (2.4.0)\n",
      "Requirement already satisfied: tqdm>=4.41.0 in /home/cacc/.local/lib/python3.10/site-packages (from roboflow) (4.67.1)\n",
      "Requirement already satisfied: PyYAML>=5.3.1 in /home/cacc/anaconda3/envs/ml/lib/python3.10/site-packages (from roboflow) (6.0.2)\n",
      "Requirement already satisfied: requests-toolbelt in /home/cacc/anaconda3/envs/ml/lib/python3.10/site-packages (from roboflow) (1.0.0)\n",
      "Requirement already satisfied: filetype in /home/cacc/anaconda3/envs/ml/lib/python3.10/site-packages (from roboflow) (1.2.0)\n",
      "Requirement already satisfied: contourpy>=1.0.1 in /home/cacc/anaconda3/envs/ml/lib/python3.10/site-packages (from matplotlib->roboflow) (1.3.1)\n",
      "Requirement already satisfied: fonttools>=4.22.0 in /home/cacc/anaconda3/envs/ml/lib/python3.10/site-packages (from matplotlib->roboflow) (4.57.0)\n",
      "Requirement already satisfied: packaging>=20.0 in /home/cacc/anaconda3/envs/ml/lib/python3.10/site-packages (from matplotlib->roboflow) (24.2)\n",
      "Requirement already satisfied: pyparsing>=2.3.1 in /home/cacc/anaconda3/envs/ml/lib/python3.10/site-packages (from matplotlib->roboflow) (3.2.3)\n",
      "Requirement already satisfied: charset-normalizer<4,>=2 in /home/cacc/anaconda3/envs/ml/lib/python3.10/site-packages (from requests->roboflow) (3.4.1)\n",
      "Note: you may need to restart the kernel to use updated packages.\n",
      "An error occurred: {\n",
      "    \"error\": {\n",
      "        \"message\": \"This API key does not exist (or has been revoked).\",\n",
      "        \"status\": 401,\n",
      "        \"type\": \"OAuthException\",\n",
      "        \"hint\": \"You may retrieve your API key via the Roboflow Dashboard. Go to Account > Roboflow Keys to retrieve yours.\",\n",
      "        \"key\": \"rf_Bo70Ve46s0TMFftFPv5FEnI3KKh1\"\n",
      "    }\n",
      "}\n"
     ]
    }
   ],
   "source": [
    "%pip install roboflow\n",
    "\n",
    "from roboflow import Roboflow\n",
    "\n",
    "try:\n",
    "    with open(\"config.txt\", \"r\") as f:\n",
    "        api_key = f.readline().strip()  # 读取第一行并移除空白字符\n",
    "    if api_key:\n",
    "        rf = Roboflow(api_key=api_key)\n",
    "        project = rf.workspace(\"ayaramis\").project(\"fire-vqbia\")\n",
    "        version = project.version(1)\n",
    "        local_download_path = \"./data\"  # 替换为您希望保存数据的本地路径\n",
    "        dataset = version.download(\"yolov8\", location=local_download_path, overwrite=True) # 添加 overwrite=True\n",
    "        print(f\"数据集已下载到: {dataset.location}\")\n",
    "    else:\n",
    "        print(\"Error: API key is empty in config.txt.\")\n",
    "except FileNotFoundError:\n",
    "    print(\"Error: config.txt not found.\")\n",
    "except Exception as e:\n",
    "    print(f\"An error occurred: {e}\")"
   ]
  },
  {
   "cell_type": "markdown",
   "metadata": {
    "id": "YUjFBKKqXa-u"
   },
   "source": [
    "## Custom Training"
   ]
  },
  {
   "cell_type": "code",
   "execution_count": null,
   "metadata": {
    "execution": {
     "iopub.execute_input": "2024-05-09T19:42:42.76622Z",
     "iopub.status.busy": "2024-05-09T19:42:42.765366Z",
     "iopub.status.idle": "2024-05-09T19:42:42.772021Z",
     "shell.execute_reply": "2024-05-09T19:42:42.771027Z",
     "shell.execute_reply.started": "2024-05-09T19:42:42.766188Z"
    },
    "trusted": true
   },
   "outputs": [],
   "source": [
    "pwd"
   ]
  },
  {
   "cell_type": "code",
   "execution_count": null,
   "metadata": {
    "execution": {
     "iopub.execute_input": "2024-05-09T18:09:59.296902Z",
     "iopub.status.busy": "2024-05-09T18:09:59.296541Z",
     "iopub.status.idle": "2024-05-09T19:03:10.108314Z",
     "shell.execute_reply": "2024-05-09T19:03:10.107204Z",
     "shell.execute_reply.started": "2024-05-09T18:09:59.296875Z"
    },
    "id": "D2YkphuiaE7_",
    "outputId": "a7414341-df8a-4ef6-e772-383827b481fe",
    "trusted": true
   },
   "outputs": [],
   "source": [
    "!yolo task=detect mode=train model=yolov8s.pt data={dataset.location}/data.yaml epochs=25 imgsz=800 plots=True"
   ]
  },
  {
   "cell_type": "code",
   "execution_count": null,
   "metadata": {
    "execution": {
     "iopub.execute_input": "2024-05-09T19:03:12.255307Z",
     "iopub.status.busy": "2024-05-09T19:03:12.254946Z",
     "iopub.status.idle": "2024-05-09T19:03:13.35395Z",
     "shell.execute_reply": "2024-05-09T19:03:13.352241Z",
     "shell.execute_reply.started": "2024-05-09T19:03:12.255273Z"
    },
    "id": "1MScstfHhArr",
    "outputId": "210f2b1e-aea6-464b-d69e-319c473338a4",
    "trusted": true
   },
   "outputs": [],
   "source": [
    "!ls {HOME}/runs/detect/train/"
   ]
  },
  {
   "cell_type": "code",
   "execution_count": null,
   "metadata": {
    "execution": {
     "iopub.execute_input": "2024-05-09T19:03:25.594552Z",
     "iopub.status.busy": "2024-05-09T19:03:25.594139Z",
     "iopub.status.idle": "2024-05-09T19:03:25.611693Z",
     "shell.execute_reply": "2024-05-09T19:03:25.610627Z",
     "shell.execute_reply.started": "2024-05-09T19:03:25.594516Z"
    },
    "id": "_J35i8Ofhjxa",
    "outputId": "3584e96f-5a55-4391-c51f-3acf53f80cd9",
    "trusted": true
   },
   "outputs": [],
   "source": [
    "%cd {HOME}\n",
    "Image(filename=f'{HOME}/runs/detect/train/confusion_matrix.png', width=600)"
   ]
  },
  {
   "cell_type": "code",
   "execution_count": null,
   "metadata": {
    "execution": {
     "iopub.execute_input": "2024-05-09T19:03:30.966178Z",
     "iopub.status.busy": "2024-05-09T19:03:30.965792Z",
     "iopub.status.idle": "2024-05-09T19:03:30.982567Z",
     "shell.execute_reply": "2024-05-09T19:03:30.981599Z",
     "shell.execute_reply.started": "2024-05-09T19:03:30.966147Z"
    },
    "id": "A-urTWUkhRmn",
    "outputId": "836e9053-7035-48ba-ef10-9f7155a329de",
    "trusted": true
   },
   "outputs": [],
   "source": [
    "%cd {HOME}\n",
    "Image(filename=f'{HOME}/runs/detect/train/results.png', width=600)"
   ]
  },
  {
   "cell_type": "code",
   "execution_count": null,
   "metadata": {
    "execution": {
     "iopub.execute_input": "2024-05-09T19:03:37.177234Z",
     "iopub.status.busy": "2024-05-09T19:03:37.176481Z",
     "iopub.status.idle": "2024-05-09T19:03:37.195737Z",
     "shell.execute_reply": "2024-05-09T19:03:37.194763Z",
     "shell.execute_reply.started": "2024-05-09T19:03:37.177202Z"
    },
    "id": "HI4nADCCj3F5",
    "outputId": "ad7f1e75-222c-4097-ee6a-edcff68ff723",
    "trusted": true
   },
   "outputs": [],
   "source": [
    "%cd {HOME}\n",
    "Image(filename=f'{HOME}/runs/detect/train/val_batch0_pred.jpg', width=600)"
   ]
  },
  {
   "cell_type": "markdown",
   "metadata": {
    "id": "6ODk1VTlevxn"
   },
   "source": [
    "## Validate Custom Model"
   ]
  },
  {
   "cell_type": "code",
   "execution_count": null,
   "metadata": {
    "execution": {
     "iopub.execute_input": "2024-05-09T19:03:44.606731Z",
     "iopub.status.busy": "2024-05-09T19:03:44.606268Z",
     "iopub.status.idle": "2024-05-09T19:04:15.644358Z",
     "shell.execute_reply": "2024-05-09T19:04:15.643277Z",
     "shell.execute_reply.started": "2024-05-09T19:03:44.606697Z"
    },
    "id": "YpyuwrNlXc1P",
    "outputId": "f0bb32ee-5da7-4249-f6e8-bb19ef860b4d",
    "trusted": true
   },
   "outputs": [],
   "source": [
    "%cd {HOME}\n",
    "\n",
    "!yolo task=detect mode=val model={HOME}/runs/detect/train/weights/best.pt data={dataset.location}/data.yaml"
   ]
  },
  {
   "cell_type": "markdown",
   "metadata": {
    "id": "i4eASbcWkQBq"
   },
   "source": [
    "## Inference with Custom Model"
   ]
  },
  {
   "cell_type": "code",
   "execution_count": null,
   "metadata": {
    "execution": {
     "iopub.execute_input": "2024-05-09T19:04:27.402056Z",
     "iopub.status.busy": "2024-05-09T19:04:27.401142Z",
     "iopub.status.idle": "2024-05-09T19:04:49.703683Z",
     "shell.execute_reply": "2024-05-09T19:04:49.702077Z",
     "shell.execute_reply.started": "2024-05-09T19:04:27.402019Z"
    },
    "id": "Wjc1ctZykYuf",
    "outputId": "95967de2-7d16-414a-dfc5-7c8eb38065e6",
    "trusted": true
   },
   "outputs": [],
   "source": [
    "%cd {HOME}\n",
    "!yolo task=detect mode=predict model={HOME}/runs/detect/train/weights/best.pt conf=0.25 source={dataset.location}/test/images save=True"
   ]
  },
  {
   "cell_type": "markdown",
   "metadata": {
    "id": "mEYIo95n-I0S"
   },
   "source": [
    "**NOTE:** Let's take a look at few results."
   ]
  },
  {
   "cell_type": "code",
   "execution_count": null,
   "metadata": {
    "execution": {
     "iopub.execute_input": "2024-05-09T19:05:37.034501Z",
     "iopub.status.busy": "2024-05-09T19:05:37.034101Z",
     "iopub.status.idle": "2024-05-09T19:05:37.062771Z",
     "shell.execute_reply": "2024-05-09T19:05:37.061713Z",
     "shell.execute_reply.started": "2024-05-09T19:05:37.034469Z"
    },
    "id": "jbVjEtPAkz3j",
    "outputId": "94a5d40d-62e8-4347-bd4b-183aae9e002a",
    "trusted": true
   },
   "outputs": [],
   "source": [
    "import glob\n",
    "from IPython.display import Image, display\n",
    "\n",
    "for image_path in glob.glob(f'{HOME}/runs/detect/predict/*.jpg')[3:7]:\n",
    "      display(Image(filename=image_path, width=600))\n",
    "      print(\"\\n\")"
   ]
  }
 ],
 "metadata": {
  "accelerator": "GPU",
  "colab": {
   "provenance": []
  },
  "gpuClass": "standard",
  "kaggle": {
   "accelerator": "none",
   "dataSources": [],
   "dockerImageVersionId": 30698,
   "isGpuEnabled": false,
   "isInternetEnabled": true,
   "language": "python",
   "sourceType": "notebook"
  },
  "kernelspec": {
   "display_name": "ml",
   "language": "python",
   "name": "python3"
  },
  "language_info": {
   "codemirror_mode": {
    "name": "ipython",
    "version": 3
   },
   "file_extension": ".py",
   "mimetype": "text/x-python",
   "name": "python",
   "nbconvert_exporter": "python",
   "pygments_lexer": "ipython3",
   "version": "3.10.16"
  }
 },
 "nbformat": 4,
 "nbformat_minor": 4
}
