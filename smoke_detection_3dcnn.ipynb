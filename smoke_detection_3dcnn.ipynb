{
 "cells": [
  {
   "cell_type": "markdown",
   "metadata": {},
   "source": [
    "# 3DCNN烟雾检测模型实现\n",
    "基于Bonilla-Ormachea等人论文中的S5架构"
   ]
  },
  {
   "cell_type": "code",
   "execution_count": null,
   "metadata": {},
   "outputs": [],
   "source": [
    "import tensorflow as tf\n",
    "from tensorflow.keras.models import Sequential\n",
    "from tensorflow.keras.layers import (\n",
    "    Conv3D, AveragePooling3D, BatchNormalization,\n",
    "    TimeDistributed, Flatten, Bidirectional, LSTM,\n",
    "    Dense\n",
    ")\n",
    "from tensorflow.keras.optimizers import Adam"
   ]
  },
  {
   "cell_type": "markdown",
   "metadata": {},
   "source": [
    "## 1. 模型构建"
   ]
  },
  {
   "cell_type": "code",
   "execution_count": null,
   "metadata": {},
   "outputs": [],
   "source": [
    "def build_3dcnn_model(input_shape=(30, 240, 240, 1)):\n",
    "    model = Sequential([\n",
    "        # 3D卷积层\n",
    "        Conv3D(32, (5, 5, 3), activation='relu', input_shape=input_shape),\n",
    "        AveragePooling3D((2, 2, 2)),\n",
    "        BatchNormalization(),\n",
    "        \n",
    "        # 时空特征提取\n",
    "        Conv3D(64, (3, 3, 3), activation='relu'),\n",
    "        AveragePooling3D((2, 2, 2)),\n",
    "        BatchNormalization(),\n",
    "        \n",
    "        # 时序处理\n",
    "        TimeDistributed(Flatten()),\n",
    "        Bidirectional(LSTM(64, return_sequences=True)),\n",
    "        Bidirectional(LSTM(32)),\n",
    "        \n",
    "        # 分类层\n",
    "        Dense(1, activation='sigmoid')\n",
    "    ])\n",
    "    \n",
    "    model.compile(\n",
    "        optimizer=Adam(learning_rate=0.001),\n",
    "        loss='binary_crossentropy',\n",
    "        metrics=['accuracy']\n",
    "    )\n",
    "    \n",
    "    return model\n",
    "\n",
    "# 创建模型\n",
    "model = build_3dcnn_model()\n",
    "model.summary()"
   ]
  },
  {
   "cell_type": "markdown",
   "metadata": {},
   "source": [
    "## 2. 数据预处理"
   ]
  },
  {
   "cell_type": "code",
   "execution_count": null,
   "metadata": {},
   "outputs": [],
   "source": [
    "import cv2\n",
    "import numpy as np\n",
    "\n",
    "def preprocess_video(video_path, target_size=(240, 240), frames=30):\n",
    "    \"\"\"\n",
    "    视频预处理流程：\n",
    "    1. 读取视频并采样指定帧数\n",
    "    2. 转换为灰度\n",
    "    3. 调整大小\n",
    "    4. 归一化\n",
    "    \"\"\"\n",
    "    cap = cv2.VideoCapture(video_path)\n",
    "    total_frames = int(cap.get(cv2.CAP_PROP_FRAME_COUNT))\n",
    "    frame_indices = np.linspace(0, total_frames-1, frames, dtype=np.int32)\n",
    "    \n",
    "    video_data = []\n",
    "    for idx in frame_indices:\n",
    "        cap.set(cv2.CAP_PROP_POS_FRAMES, idx)\n",
    "        ret, frame = cap.read()\n",
    "        if ret:\n",
    "            # 转换为灰度并resize\n",
    "            gray = cv2.cvtColor(frame, cv2.COLOR_BGR2GRAY)\n",
    "            resized = cv2.resize(gray, target_size)\n",
    "            video_data.append(resized)\n",
    "    \n",
    "    cap.release()\n",
    "    \n",
    "    # 归一化并调整维度\n",
    "    video_array = np.array(video_data) / 255.0\n",
    "    return np.expand_dims(video_array, axis=-1)  # 添加通道维度"
   ]
  },
  {
   "cell_type": "markdown",
   "metadata": {},
   "source": [
    "## 3. 模型训练"
   ]
  },
  {
   "cell_type": "code",
   "execution_count": null,
   "metadata": {},
   "outputs": [],
   "source": [
    "# 示例训练流程\n",
    "# 假设已有训练数据X_train, y_train\n",
    "\n",
    "# 添加早停和模型检查点\n",
    "callbacks = [\n",
    "    tf.keras.callbacks.EarlyStopping(patience=5, monitor='val_loss'),\n",
    "    tf.keras.callbacks.ModelCheckpoint('best_model.h5', save_best_only=True)\n",
    "]\n",
    "\n",
    "history = model.fit(\n",
    "    X_train, y_train,\n",
    "    batch_size=16,\n",
    "    epochs=50,\n",
    "    validation_split=0.2,\n",
    "    callbacks=callbacks\n",
    ")"
   ]
  },
  {
   "cell_type": "markdown",
   "metadata": {},
   "source": [
    "## 4. 模型评估"
   ]
  },
  {
   "cell_type": "code",
   "execution_count": null,
   "metadata": {},
   "outputs": [],
   "source": [
    "# 加载最佳模型\n",
    "best_model = tf.keras.models.load_model('best_model.h5')\n",
    "\n",
    "# 在测试集上评估\n",
    "test_loss, test_acc = best_model.evaluate(X_test, y_test)\n",
    "print(f\"测试准确率: {test_acc:.4f}\")\n",
    "\n",
    "# 可视化训练过程\n",
    "import matplotlib.pyplot as plt\n",
    "\n",
    "plt.plot(history.history['accuracy'], label='训练准确率')\n",
    "plt.plot(history.history['val_accuracy'], label='验证准确率')\n",
    "plt.xlabel('Epoch')\n",
    "plt.ylabel('Accuracy')\n",
    "plt.legend()\n",
    "plt.show()"
   ]
  },
  {
   "cell_type": "markdown",
   "metadata": {},
   "source": [
    "## 5. 推理示例"
   ]
  },
  {
   "cell_type": "code",
   "execution_count": null,
   "metadata": {},
   "outputs": [],
   "source": [
    "def predict_smoke(video_path, model):\n",
    "    \"\"\"预测视频是否包含烟雾\"\"\"\n",
    "    processed = preprocess_video(video_path)\n",
    "    prediction = model.predict(np.expand_dims(processed, axis=0))\n",
    "    return \"有烟雾\" if prediction > 0.5 else \"无烟雾\"\n",
    "\n",
    "# 示例使用\n",
    "# result = predict_smoke(\"test_video.mp4\", best_model)\n",
    "# print(f\"检测结果: {result}\")"
   ]
  }
 ],
 "metadata": {
  "kernelspec": {
   "display_name": "ml",
   "language": "python",
   "name": "python3"
  },
  "language_info": {
   "codemirror_mode": {
    "name": "ipython",
    "version": 3
   },
   "file_extension": ".py",
   "mimetype": "text/x-python",
   "name": "python",
   "nbconvert_exporter": "python",
   "pygments_lexer": "ipython3",
   "version": "3.10.16"
  }
 },
 "nbformat": 4,
 "nbformat_minor": 4
}
